{
 "cells": [
  {
   "cell_type": "code",
   "execution_count": 1,
   "metadata": {},
   "outputs": [],
   "source": [
    "from SOC.models import OFC\n",
    "from SOC.models import Manna\n",
    "import matplotlib.pyplot as plt"
   ]
  },
  {
   "cell_type": "code",
   "execution_count": 2,
   "metadata": {},
   "outputs": [
    {
     "data": {
      "application/vnd.jupyter.widget-view+json": {
       "model_id": "0a33af068e484adfb9f8e958fdd6bb0d",
       "version_major": 2,
       "version_minor": 0
      },
      "text/plain": [
       "HBox(children=(IntProgress(value=0, max=20), HTML(value='')))"
      ]
     },
     "metadata": {},
     "output_type": "display_data"
    },
    {
     "name": "stdout",
     "output_type": "stream",
     "text": [
      "N_iterations: 0\n",
      "np.max(values) before active_sites: 1.0\n",
      "active_sites.any: True\n",
      "np.max(values) before the loop: 1.0\n",
      "np.max(values) after the loop: 0.999699334821211\n",
      "np.max(values) before active_sites: 0.999699334821211\n",
      "active_sites.any: False\n",
      "N_iterations: 1\n",
      "np.max(values) before active_sites: 1.0\n",
      "active_sites.any: True\n",
      "np.max(values) before the loop: 1.0\n",
      "np.max(values) after the loop: 1.17190422266378\n",
      "np.max(values) before active_sites: 1.17190422266378\n",
      "active_sites.any: True\n",
      "np.max(values) before the loop: 1.17190422266378\n",
      "np.max(values) after the loop: 0.9999764043562458\n",
      "np.max(values) before active_sites: 0.9999764043562458\n",
      "active_sites.any: False\n",
      "N_iterations: 2\n",
      "np.max(values) before active_sites: 1.0\n",
      "active_sites.any: True\n",
      "np.max(values) before the loop: 1.0\n",
      "np.max(values) after the loop: 1.0587469710838806\n",
      "np.max(values) before active_sites: 1.0587469710838806\n",
      "active_sites.any: True\n",
      "np.max(values) before the loop: 1.0587469710838806\n",
      "np.max(values) after the loop: 0.9993024071588937\n",
      "np.max(values) before active_sites: 0.9993024071588937\n",
      "active_sites.any: False\n",
      "N_iterations: 3\n",
      "np.max(values) before active_sites: 1.0\n",
      "active_sites.any: True\n",
      "np.max(values) before the loop: 1.0\n",
      "np.max(values) after the loop: 0.9991576885313143\n",
      "np.max(values) before active_sites: 0.9991576885313143\n",
      "active_sites.any: False\n",
      "N_iterations: 4\n",
      "np.max(values) before active_sites: 1.0\n",
      "active_sites.any: True\n",
      "np.max(values) before the loop: 1.0\n",
      "np.max(values) after the loop: 1.1548312178861129\n",
      "np.max(values) before active_sites: 1.1548312178861129\n",
      "active_sites.any: True\n",
      "np.max(values) before the loop: 1.1548312178861129\n",
      "np.max(values) after the loop: 1.2783360776529373\n",
      "np.max(values) before active_sites: 1.2783360776529373\n",
      "active_sites.any: True\n",
      "np.max(values) before the loop: 1.2783360776529373\n",
      "np.max(values) after the loop: 1.1170571442734083\n",
      "np.max(values) before active_sites: 1.1170571442734083\n",
      "active_sites.any: True\n",
      "np.max(values) before the loop: 1.1170571442734083\n",
      "np.max(values) after the loop: 1.2146052739423872\n",
      "np.max(values) before active_sites: 1.2146052739423872\n",
      "active_sites.any: True\n",
      "np.max(values) before the loop: 1.2146052739423872\n",
      "np.max(values) after the loop: 1.3817461575056034\n",
      "np.max(values) before active_sites: 1.3817461575056034\n",
      "active_sites.any: True\n",
      "np.max(values) before the loop: 1.3817461575056034\n",
      "np.max(values) after the loop: 1.2691179805574504\n",
      "np.max(values) before active_sites: 1.2691179805574504\n",
      "active_sites.any: True\n",
      "np.max(values) before the loop: 1.2691179805574504\n",
      "np.max(values) after the loop: 0.999973596491545\n",
      "np.max(values) before active_sites: 0.999973596491545\n",
      "active_sites.any: False\n",
      "N_iterations: 5\n",
      "np.max(values) before active_sites: 1.0\n",
      "active_sites.any: True\n",
      "np.max(values) before the loop: 1.0\n",
      "np.max(values) after the loop: 1.248434745623022\n",
      "np.max(values) before active_sites: 1.248434745623022\n",
      "active_sites.any: True\n",
      "np.max(values) before the loop: 1.248434745623022\n",
      "np.max(values) after the loop: 1.1323942713492707\n",
      "np.max(values) before active_sites: 1.1323942713492707\n",
      "active_sites.any: True\n",
      "np.max(values) before the loop: 1.1323942713492707\n",
      "np.max(values) after the loop: 0.9995629027202174\n",
      "np.max(values) before active_sites: 0.9995629027202174\n",
      "active_sites.any: False\n",
      "N_iterations: 6\n",
      "np.max(values) before active_sites: 1.0\n",
      "active_sites.any: True\n",
      "np.max(values) before the loop: 1.0\n",
      "np.max(values) after the loop: 0.9990258541932059\n",
      "np.max(values) before active_sites: 0.9990258541932059\n",
      "active_sites.any: False\n",
      "N_iterations: 7\n",
      "np.max(values) before active_sites: 1.0\n",
      "active_sites.any: True\n",
      "np.max(values) before the loop: 1.0\n",
      "np.max(values) after the loop: 1.238050595497512\n",
      "np.max(values) before active_sites: 1.238050595497512\n",
      "active_sites.any: True\n",
      "np.max(values) before the loop: 1.238050595497512\n",
      "np.max(values) after the loop: 1.1941782005657249\n",
      "np.max(values) before active_sites: 1.1941782005657249\n",
      "active_sites.any: True\n",
      "np.max(values) before the loop: 1.1941782005657249\n",
      "np.max(values) after the loop: 1.0894603149461701\n",
      "np.max(values) before active_sites: 1.0894603149461701\n",
      "active_sites.any: True\n",
      "np.max(values) before the loop: 1.0894603149461701\n",
      "np.max(values) after the loop: 1.1465322085265124\n",
      "np.max(values) before active_sites: 1.1465322085265124\n",
      "active_sites.any: True\n",
      "np.max(values) before the loop: 1.1465322085265124\n",
      "np.max(values) after the loop: 1.1542283991270832\n",
      "np.max(values) before active_sites: 1.1542283991270832\n",
      "active_sites.any: True\n",
      "np.max(values) before the loop: 1.1542283991270832\n",
      "np.max(values) after the loop: 1.072635151287205\n",
      "np.max(values) before active_sites: 1.072635151287205\n",
      "active_sites.any: True\n",
      "np.max(values) before the loop: 1.072635151287205\n",
      "np.max(values) after the loop: 1.1505640053353434\n",
      "np.max(values) before active_sites: 1.1505640053353434\n",
      "active_sites.any: True\n",
      "np.max(values) before the loop: 1.1505640053353434\n",
      "np.max(values) after the loop: 0.9974930229119748\n",
      "np.max(values) before active_sites: 0.9974930229119748\n",
      "active_sites.any: False\n",
      "N_iterations: 8\n",
      "np.max(values) before active_sites: 1.0\n",
      "active_sites.any: False\n",
      "N_iterations: 9\n",
      "np.max(values) before active_sites: 1.0\n",
      "active_sites.any: False\n",
      "N_iterations: 10\n",
      "np.max(values) before active_sites: 1.0\n",
      "active_sites.any: False\n",
      "N_iterations: 11\n",
      "np.max(values) before active_sites: 1.0\n",
      "active_sites.any: False\n",
      "N_iterations: 12\n",
      "np.max(values) before active_sites: 1.0\n",
      "active_sites.any: False\n",
      "N_iterations: 13\n",
      "np.max(values) before active_sites: 1.0\n",
      "active_sites.any: False\n",
      "N_iterations: 14\n",
      "np.max(values) before active_sites: 1.0\n",
      "active_sites.any: False\n",
      "N_iterations: 15\n",
      "np.max(values) before active_sites: 1.0\n",
      "active_sites.any: False\n",
      "N_iterations: 16\n",
      "np.max(values) before active_sites: 1.0\n",
      "active_sites.any: False\n",
      "N_iterations: 17\n",
      "np.max(values) before active_sites: 1.0\n",
      "active_sites.any: False\n",
      "N_iterations: 18\n",
      "np.max(values) before active_sites: 1.0\n",
      "active_sites.any: False\n",
      "N_iterations: 19\n",
      "np.max(values) before active_sites: 1.0\n",
      "active_sites.any: False\n",
      "\n"
     ]
    },
    {
     "data": {
      "text/plain": [
       "{0: {'AvalancheSize': 4, 'number_of_iterations': 1},\n",
       " 1: {'AvalancheSize': 8, 'number_of_iterations': 2},\n",
       " 2: {'AvalancheSize': 8, 'number_of_iterations': 2},\n",
       " 3: {'AvalancheSize': 4, 'number_of_iterations': 1},\n",
       " 4: {'AvalancheSize': 24, 'number_of_iterations': 7},\n",
       " 5: {'AvalancheSize': 11, 'number_of_iterations': 3},\n",
       " 6: {'AvalancheSize': 4, 'number_of_iterations': 1},\n",
       " 7: {'AvalancheSize': 21, 'number_of_iterations': 8},\n",
       " 8: {'AvalancheSize': 0, 'number_of_iterations': 0},\n",
       " 9: {'AvalancheSize': 0, 'number_of_iterations': 0},\n",
       " 10: {'AvalancheSize': 0, 'number_of_iterations': 0},\n",
       " 11: {'AvalancheSize': 0, 'number_of_iterations': 0},\n",
       " 12: {'AvalancheSize': 0, 'number_of_iterations': 0},\n",
       " 13: {'AvalancheSize': 0, 'number_of_iterations': 0},\n",
       " 14: {'AvalancheSize': 0, 'number_of_iterations': 0},\n",
       " 15: {'AvalancheSize': 0, 'number_of_iterations': 0},\n",
       " 16: {'AvalancheSize': 0, 'number_of_iterations': 0},\n",
       " 17: {'AvalancheSize': 0, 'number_of_iterations': 0},\n",
       " 18: {'AvalancheSize': 0, 'number_of_iterations': 0},\n",
       " 19: {'AvalancheSize': 0, 'number_of_iterations': 0}}"
      ]
     },
     "execution_count": 2,
     "metadata": {},
     "output_type": "execute_result"
    }
   ],
   "source": [
    "sim = OFC(20,1.,0.25)\n",
    "sim.run(20)\n"
   ]
  },
  {
   "cell_type": "code",
   "execution_count": 3,
   "metadata": {},
   "outputs": [
    {
     "data": {
      "image/png": "[encoded data removed]",
      "text/plain": [
       "<Figure size 432x288 with 2 Axes>"
      ]
     },
     "execution_count": 3,
     "metadata": {},
     "output_type": "execute_result"
    },
    {
     "data": {
      "image/png": "[encoded data removed]",
      "text/plain": [
       "<Figure size 432x288 with 2 Axes>"
      ]
     },
     "metadata": {
      "needs_background": "light"
     },
     "output_type": "display_data"
    }
   ],
   "source": [
    "sim.plot_state()"
   ]
  },
  {
   "cell_type": "code",
   "execution_count": null,
   "metadata": {},
   "outputs": [],
   "source": []
  },
  {
   "cell_type": "code",
   "execution_count": null,
   "metadata": {},
   "outputs": [],
   "source": []
  },
  {
   "cell_type": "code",
   "execution_count": 4,
   "metadata": {},
   "outputs": [],
   "source": [
    "#sim2 = Manna(20)\n",
    "#sim2.run(100)\n"
   ]
  },
  {
   "cell_type": "code",
   "execution_count": 5,
   "metadata": {},
   "outputs": [],
   "source": [
    "#sim2.plot_state()"
   ]
  },
  {
   "cell_type": "code",
   "execution_count": null,
   "metadata": {},
   "outputs": [],
   "source": []
  }
 ],
 "metadata": {
  "kernelspec": {
   "display_name": "Python 3",
   "language": "python",
   "name": "python3"
  },
  "language_info": {
   "codemirror_mode": {
    "name": "ipython",
    "version": 3
   },
   "file_extension": ".py",
   "mimetype": "text/x-python",
   "name": "python",
   "nbconvert_exporter": "python",
   "pygments_lexer": "ipython3",
   "version": "3.7.4"
  }
 },
 "nbformat": 4,
 "nbformat_minor": 2
}
