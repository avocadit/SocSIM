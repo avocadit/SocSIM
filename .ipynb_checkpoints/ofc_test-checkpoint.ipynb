{
 "cells": [
  {
   "cell_type": "code",
   "execution_count": 1,
   "metadata": {},
   "outputs": [],
   "source": [
    "from SOC.models import OFC\n",
    "from SOC.models import Manna\n",
    "import matplotlib.pyplot as plt"
   ]
  },
  {
   "cell_type": "code",
   "execution_count": 2,
   "metadata": {},
   "outputs": [
    {
     "data": {
      "application/vnd.jupyter.widget-view+json": {
       "model_id": "55ce7084906e44e4bddc540d93d8b0e2",
       "version_major": 2,
       "version_minor": 0
      },
      "text/plain": [
       "HBox(children=(IntProgress(value=0, max=20), HTML(value='')))"
      ]
     },
     "metadata": {},
     "output_type": "display_data"
    },
    {
     "name": "stdout",
     "output_type": "stream",
     "text": [
      "N_iterations: 0\n",
      "np.max(values) before active_sites: 1.0\n",
      "active_sites.any: True\n",
      "np.max(values) before the loop: 1.0\n",
      "np.max(values) after the loop: 1.2064548772910113\n",
      "np.max(values) before active_sites: 1.2064548772910113\n",
      "active_sites.any: True\n",
      "np.max(values) before the loop: 1.2064548772910113\n",
      "np.max(values) after the loop: 0.9989130340784643\n",
      "np.max(values) before active_sites: 0.9989130340784643\n",
      "active_sites.any: False\n",
      "N_iterations: 1\n",
      "np.max(values) before active_sites: 1.0\n",
      "active_sites.any: True\n",
      "np.max(values) before the loop: 1.0\n",
      "np.max(values) after the loop: 1.187368565082222\n",
      "np.max(values) before active_sites: 1.187368565082222\n",
      "active_sites.any: True\n",
      "np.max(values) before the loop: 1.187368565082222\n",
      "np.max(values) after the loop: 1.1856047430533516\n",
      "np.max(values) before active_sites: 1.1856047430533516\n",
      "active_sites.any: True\n",
      "np.max(values) before the loop: 1.1856047430533516\n",
      "np.max(values) after the loop: 1.168743287012008\n",
      "np.max(values) before active_sites: 1.168743287012008\n",
      "active_sites.any: True\n",
      "np.max(values) before the loop: 1.168743287012008\n",
      "np.max(values) after the loop: 1.092680930560931\n",
      "np.max(values) before active_sites: 1.092680930560931\n",
      "active_sites.any: True\n",
      "np.max(values) before the loop: 1.092680930560931\n",
      "np.max(values) after the loop: 0.9956771500997582\n",
      "np.max(values) before active_sites: 0.9956771500997582\n",
      "active_sites.any: False\n",
      "N_iterations: 2\n",
      "np.max(values) before active_sites: 1.0\n",
      "active_sites.any: True\n",
      "np.max(values) before the loop: 1.0\n",
      "np.max(values) after the loop: 1.1867936914183712\n",
      "np.max(values) before active_sites: 1.1867936914183712\n",
      "active_sites.any: True\n",
      "np.max(values) before the loop: 1.1867936914183712\n",
      "np.max(values) after the loop: 1.2662355487802803\n",
      "np.max(values) before active_sites: 1.2662355487802803\n",
      "active_sites.any: True\n",
      "np.max(values) before the loop: 1.2662355487802803\n",
      "np.max(values) after the loop: 0.9997739629367032\n",
      "np.max(values) before active_sites: 0.9997739629367032\n",
      "active_sites.any: False\n",
      "N_iterations: 3\n",
      "np.max(values) before active_sites: 1.0\n",
      "active_sites.any: True\n",
      "np.max(values) before the loop: 1.0\n",
      "np.max(values) after the loop: 1.1240683020869613\n",
      "np.max(values) before active_sites: 1.1240683020869613\n",
      "active_sites.any: True\n",
      "np.max(values) before the loop: 1.1240683020869613\n",
      "np.max(values) after the loop: 1.1919503988069173\n",
      "np.max(values) before active_sites: 1.1919503988069173\n",
      "active_sites.any: True\n",
      "np.max(values) before the loop: 1.1919503988069173\n",
      "np.max(values) after the loop: 1.5548448106542427\n",
      "np.max(values) before active_sites: 1.5548448106542427\n",
      "active_sites.any: True\n",
      "np.max(values) before the loop: 1.5548448106542427\n",
      "np.max(values) after the loop: 1.2656034432716752\n",
      "np.max(values) before active_sites: 1.2656034432716752\n",
      "active_sites.any: True\n",
      "np.max(values) before the loop: 1.2656034432716752\n",
      "np.max(values) after the loop: 0.9987369160922994\n",
      "np.max(values) before active_sites: 0.9987369160922994\n",
      "active_sites.any: False\n",
      "N_iterations: 4\n",
      "np.max(values) before active_sites: 1.0\n",
      "active_sites.any: True\n",
      "np.max(values) before the loop: 1.0\n",
      "np.max(values) after the loop: 1.1713561954465233\n",
      "np.max(values) before active_sites: 1.1713561954465233\n",
      "active_sites.any: True\n",
      "np.max(values) before the loop: 1.1713561954465233\n",
      "np.max(values) after the loop: 0.9990668173115024\n",
      "np.max(values) before active_sites: 0.9990668173115024\n",
      "active_sites.any: False\n",
      "N_iterations: 5\n",
      "np.max(values) before active_sites: 1.0\n",
      "active_sites.any: True\n",
      "np.max(values) before the loop: 1.0\n",
      "np.max(values) after the loop: 1.183497443171031\n",
      "np.max(values) before active_sites: 1.183497443171031\n",
      "active_sites.any: True\n",
      "np.max(values) before the loop: 1.183497443171031\n",
      "np.max(values) after the loop: 1.0689327377886766\n",
      "np.max(values) before active_sites: 1.0689327377886766\n",
      "active_sites.any: True\n",
      "np.max(values) before the loop: 1.0689327377886766\n",
      "np.max(values) after the loop: 1.2308866639010734\n",
      "np.max(values) before active_sites: 1.2308866639010734\n",
      "active_sites.any: True\n",
      "np.max(values) before the loop: 1.2308866639010734\n",
      "np.max(values) after the loop: 1.0316622411414476\n",
      "np.max(values) before active_sites: 1.0316622411414476\n",
      "active_sites.any: True\n",
      "np.max(values) before the loop: 1.0316622411414476\n",
      "np.max(values) after the loop: 1.2322896994744585\n",
      "np.max(values) before active_sites: 1.2322896994744585\n",
      "active_sites.any: True\n",
      "np.max(values) before the loop: 1.2322896994744585\n",
      "np.max(values) after the loop: 1.0554651161854998\n",
      "np.max(values) before active_sites: 1.0554651161854998\n",
      "active_sites.any: True\n",
      "np.max(values) before the loop: 1.0554651161854998\n",
      "np.max(values) after the loop: 1.085457065749769\n",
      "np.max(values) before active_sites: 1.085457065749769\n",
      "active_sites.any: True\n",
      "np.max(values) before the loop: 1.085457065749769\n",
      "np.max(values) after the loop: 1.0755235160119638\n",
      "np.max(values) before active_sites: 1.0755235160119638\n",
      "active_sites.any: True\n",
      "np.max(values) before the loop: 1.0755235160119638\n",
      "np.max(values) after the loop: 1.1877363111934\n",
      "np.max(values) before active_sites: 1.1877363111934\n",
      "active_sites.any: True\n",
      "np.max(values) before the loop: 1.1877363111934\n",
      "np.max(values) after the loop: 1.028147153199225\n",
      "np.max(values) before active_sites: 1.028147153199225\n",
      "active_sites.any: False\n",
      "N_iterations: 6\n",
      "np.max(values) before active_sites: 1.0\n",
      "active_sites.any: False\n",
      "N_iterations: 7\n",
      "np.max(values) before active_sites: 1.0\n",
      "active_sites.any: False\n",
      "N_iterations: 8\n",
      "np.max(values) before active_sites: 1.0\n",
      "active_sites.any: False\n",
      "N_iterations: 9\n",
      "np.max(values) before active_sites: 1.0\n",
      "active_sites.any: False\n",
      "N_iterations: 10\n",
      "np.max(values) before active_sites: 1.0\n",
      "active_sites.any: False\n",
      "N_iterations: 11\n",
      "np.max(values) before active_sites: 1.0\n",
      "active_sites.any: False\n",
      "N_iterations: 12\n",
      "np.max(values) before active_sites: 1.0\n",
      "active_sites.any: False\n",
      "N_iterations: 13\n",
      "np.max(values) before active_sites: 1.0\n",
      "active_sites.any: False\n",
      "N_iterations: 14\n",
      "np.max(values) before active_sites: 1.0\n",
      "active_sites.any: False\n",
      "N_iterations: 15\n",
      "np.max(values) before active_sites: 1.0\n",
      "active_sites.any: False\n",
      "N_iterations: 16\n",
      "np.max(values) before active_sites: 1.0\n",
      "active_sites.any: False\n",
      "N_iterations: 17\n",
      "np.max(values) before active_sites: 1.0\n",
      "active_sites.any: False\n",
      "N_iterations: 18\n",
      "np.max(values) before active_sites: 1.0\n",
      "active_sites.any: False\n",
      "N_iterations: 19\n",
      "np.max(values) before active_sites: 1.0\n",
      "active_sites.any: False\n",
      "\n"
     ]
    },
    {
     "data": {
      "text/plain": [
       "{0: {'AvalancheSize': 8, 'number_of_iterations': 2},\n",
       " 1: {'AvalancheSize': 20, 'number_of_iterations': 5},\n",
       " 2: {'AvalancheSize': 10, 'number_of_iterations': 3},\n",
       " 3: {'AvalancheSize': 22, 'number_of_iterations': 5},\n",
       " 4: {'AvalancheSize': 8, 'number_of_iterations': 2},\n",
       " 5: {'AvalancheSize': 29, 'number_of_iterations': 10},\n",
       " 6: {'AvalancheSize': 0, 'number_of_iterations': 0},\n",
       " 7: {'AvalancheSize': 0, 'number_of_iterations': 0},\n",
       " 8: {'AvalancheSize': 0, 'number_of_iterations': 0},\n",
       " 9: {'AvalancheSize': 0, 'number_of_iterations': 0},\n",
       " 10: {'AvalancheSize': 0, 'number_of_iterations': 0},\n",
       " 11: {'AvalancheSize': 0, 'number_of_iterations': 0},\n",
       " 12: {'AvalancheSize': 0, 'number_of_iterations': 0},\n",
       " 13: {'AvalancheSize': 0, 'number_of_iterations': 0},\n",
       " 14: {'AvalancheSize': 0, 'number_of_iterations': 0},\n",
       " 15: {'AvalancheSize': 0, 'number_of_iterations': 0},\n",
       " 16: {'AvalancheSize': 0, 'number_of_iterations': 0},\n",
       " 17: {'AvalancheSize': 0, 'number_of_iterations': 0},\n",
       " 18: {'AvalancheSize': 0, 'number_of_iterations': 0},\n",
       " 19: {'AvalancheSize': 0, 'number_of_iterations': 0}}"
      ]
     },
     "execution_count": 2,
     "metadata": {},
     "output_type": "execute_result"
    }
   ],
   "source": [
    "sim = OFC(20,1.,0.25)\n",
    "sim.run(20)\n"
   ]
  },
  {
   "cell_type": "code",
   "execution_count": 3,
   "metadata": {},
   "outputs": [
    {
     "data": {
      "image/png": "[encoded data removed]",
      "text/plain": [
       "<Figure size 432x288 with 2 Axes>"
      ]
     },
     "execution_count": 3,
     "metadata": {},
     "output_type": "execute_result"
    },
    {
     "data": {
      "image/png": "[encoded data removed]",
      "text/plain": [
       "<Figure size 432x288 with 2 Axes>"
      ]
     },
     "metadata": {
      "needs_background": "light"
     },
     "output_type": "display_data"
    }
   ],
   "source": [
    "sim.plot_state()"
   ]
  },
  {
   "cell_type": "code",
   "execution_count": null,
   "metadata": {},
   "outputs": [],
   "source": []
  },
  {
   "cell_type": "code",
   "execution_count": null,
   "metadata": {},
   "outputs": [],
   "source": []
  },
  {
   "cell_type": "code",
   "execution_count": 4,
   "metadata": {},
   "outputs": [],
   "source": [
    "#sim2 = Manna(20)\n",
    "#sim2.run(100)\n"
   ]
  },
  {
   "cell_type": "code",
   "execution_count": 5,
   "metadata": {},
   "outputs": [],
   "source": [
    "#sim2.plot_state()"
   ]
  },
  {
   "cell_type": "code",
   "execution_count": null,
   "metadata": {},
   "outputs": [],
   "source": []
  }
 ],
 "metadata": {
  "kernelspec": {
   "display_name": "Python 3",
   "language": "python",
   "name": "python3"
  },
  "language_info": {
   "codemirror_mode": {
    "name": "ipython",
    "version": 3
   },
   "file_extension": ".py",
   "mimetype": "text/x-python",
   "name": "python",
   "nbconvert_exporter": "python",
   "pygments_lexer": "ipython3",
   "version": "3.7.4"
  }
 },
 "nbformat": 4,
 "nbformat_minor": 2
}
